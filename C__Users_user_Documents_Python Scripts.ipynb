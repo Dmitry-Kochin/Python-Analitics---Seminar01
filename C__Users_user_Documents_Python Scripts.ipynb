{
 "cells": [
  {
   "cell_type": "code",
   "execution_count": 11,
   "id": "6991efb3",
   "metadata": {},
   "outputs": [
    {
     "data": {
      "text/plain": [
       "20"
      ]
     },
     "execution_count": 11,
     "metadata": {},
     "output_type": "execute_result"
    }
   ],
   "source": [
    "def total_fruits(**fruits):\n",
    "    total = 0\n",
    " \n",
    "    for amount in fruits.values():\n",
    "       total+= amount\n",
    "    return total\n",
    "total_fruits(banana= 5, mango=7, apple=8)"
   ]
  },
  {
   "cell_type": "code",
   "execution_count": 1,
   "id": "a1c53060",
   "metadata": {},
   "outputs": [
    {
     "name": "stdout",
     "output_type": "stream",
     "text": [
      "1425\n"
     ]
    }
   ],
   "source": [
    "array = [100, 125, -90, 345, 655, -1, 0, 200]\n",
    "print(sum(a for a in array if a > 0))"
   ]
  },
  {
   "cell_type": "code",
   "execution_count": 3,
   "id": "6ce9e1b4",
   "metadata": {},
   "outputs": [
    {
     "name": "stdout",
     "output_type": "stream",
     "text": [
      "25098\n"
     ]
    }
   ],
   "source": [
    "dt = ['2021-09-14', '2021-12-15', '2021-09-08', \n",
    "      '2021-12-05', '2021-10-09', '2021-09-30', \n",
    "      '2021-12-22', '2021-11-29', '2021-12-24', \n",
    "      '2021-11-26', '2021-10-27', '2021-12-18', \n",
    "      '2021-11-09', '2021-11-23', '2021-09-27', \n",
    "      '2021-10-02', '2021-12-27', '2021-09-20', \n",
    "      '2021-12-13', '2021-11-01', '2021-11-09', \n",
    "      '2021-12-06', '2021-12-08', '2021-10-09', \n",
    "      '2021-10-31', '2021-09-30', '2021-11-09', \n",
    "      '2021-12-13', '2021-10-26', '2021-12-09']\n",
    "sm = [1270, 8413, 9028, 3703, 5739, 4095, 295, \n",
    "      4944, 5723, 3701, 4471, 651, 7037, 4274, \n",
    "      6275, 4988, 6930, 2971, 6592, 2004, 2822, \n",
    "      519, 3406, 2732, 5015, 2008, 316, 6333, 5700, 2887]\n",
    " \n",
    "import pandas as pd\n",
    " \n",
    "df = pd.DataFrame(sm, index=pd.to_datetime(dt))\n",
    "print(df[df.index.month==11].sum()[0])\n",
    " \n"
   ]
  },
  {
   "cell_type": "code",
   "execution_count": 6,
   "id": "2457389c",
   "metadata": {},
   "outputs": [
    {
     "name": "stderr",
     "output_type": "stream",
     "text": [
      "C:\\Users\\user\\AppData\\Local\\Temp\\ipykernel_7480\\272342183.py:23: FutureWarning: The default value of numeric_only in DataFrameGroupBy.sum is deprecated. In a future version, numeric_only will default to False. Either specify numeric_only or select only columns which should be valid for the function.\n",
      "  df.groupby('Month').sum()\n"
     ]
    },
    {
     "data": {
      "text/html": [
       "<div>\n",
       "<style scoped>\n",
       "    .dataframe tbody tr th:only-of-type {\n",
       "        vertical-align: middle;\n",
       "    }\n",
       "\n",
       "    .dataframe tbody tr th {\n",
       "        vertical-align: top;\n",
       "    }\n",
       "\n",
       "    .dataframe thead th {\n",
       "        text-align: right;\n",
       "    }\n",
       "</style>\n",
       "<table border=\"1\" class=\"dataframe\">\n",
       "  <thead>\n",
       "    <tr style=\"text-align: right;\">\n",
       "      <th></th>\n",
       "      <th>Sum</th>\n",
       "    </tr>\n",
       "    <tr>\n",
       "      <th>Month</th>\n",
       "      <th></th>\n",
       "    </tr>\n",
       "  </thead>\n",
       "  <tbody>\n",
       "    <tr>\n",
       "      <th>9</th>\n",
       "      <td>25647</td>\n",
       "    </tr>\n",
       "    <tr>\n",
       "      <th>10</th>\n",
       "      <td>28645</td>\n",
       "    </tr>\n",
       "    <tr>\n",
       "      <th>11</th>\n",
       "      <td>25098</td>\n",
       "    </tr>\n",
       "    <tr>\n",
       "      <th>12</th>\n",
       "      <td>45452</td>\n",
       "    </tr>\n",
       "  </tbody>\n",
       "</table>\n",
       "</div>"
      ],
      "text/plain": [
       "         Sum\n",
       "Month       \n",
       "9      25647\n",
       "10     28645\n",
       "11     25098\n",
       "12     45452"
      ]
     },
     "execution_count": 6,
     "metadata": {},
     "output_type": "execute_result"
    }
   ],
   "source": [
    "dt = ['2021-09-14', '2021-12-15', '2021-09-08', \n",
    "      '2021-12-05', '2021-10-09', '2021-09-30', \n",
    "      '2021-12-22', '2021-11-29', '2021-12-24', \n",
    "      '2021-11-26', '2021-10-27', '2021-12-18', \n",
    "      '2021-11-09', '2021-11-23', '2021-09-27', \n",
    "      '2021-10-02', '2021-12-27', '2021-09-20', \n",
    "      '2021-12-13', '2021-11-01', '2021-11-09', \n",
    "      '2021-12-06', '2021-12-08', '2021-10-09', \n",
    "      '2021-10-31', '2021-09-30', '2021-11-09', \n",
    "      '2021-12-13', '2021-10-26', '2021-12-09']\n",
    "sm = [1270, 8413, 9028, 3703, 5739, 4095, 295, \n",
    "      4944, 5723, 3701, 4471, 651, 7037, 4274, \n",
    "      6275, 4988, 6930, 2971, 6592, 2004, 2822, \n",
    "      519, 3406, 2732, 5015, 2008, 316, 6333, 5700, 2887]\n",
    " \n",
    "import pandas as pd\n",
    "import datetime\n",
    " \n",
    "df = pd.DataFrame()\n",
    "df['Date'] = [datetime.datetime.strptime(i, '%Y-%m-%d') for i in dt]\n",
    "df['Sum'] = sm\n",
    "df['Month'] = pd.DatetimeIndex(df['Date']).month\n",
    "df.groupby('Month').sum()"
   ]
  },
  {
   "cell_type": "code",
   "execution_count": null,
   "id": "7e569650",
   "metadata": {},
   "outputs": [],
   "source": []
  }
 ],
 "metadata": {
  "kernelspec": {
   "display_name": "Python 3 (ipykernel)",
   "language": "python",
   "name": "python3"
  },
  "language_info": {
   "codemirror_mode": {
    "name": "ipython",
    "version": 3
   },
   "file_extension": ".py",
   "mimetype": "text/x-python",
   "name": "python",
   "nbconvert_exporter": "python",
   "pygments_lexer": "ipython3",
   "version": "3.10.9"
  }
 },
 "nbformat": 4,
 "nbformat_minor": 5
}
